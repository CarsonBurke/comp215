{
  "nbformat": 4,
  "nbformat_minor": 0,
  "metadata": {
    "kernelspec": {
      "display_name": "Python 3",
      "language": "python",
      "name": "python3"
    },
    "language_info": {
      "codemirror_mode": {
        "name": "ipython",
        "version": 2
      },
      "file_extension": ".py",
      "mimetype": "text/x-python",
      "name": "python",
      "nbconvert_exporter": "python",
      "pygments_lexer": "ipython2",
      "version": "2.7.6"
    },
    "colab": {
      "provenance": [],
      "include_colab_link": true
    }
  },
  "cells": [
    {
      "cell_type": "markdown",
      "metadata": {
        "id": "view-in-github",
        "colab_type": "text"
      },
      "source": [
        "<a href=\"https://colab.research.google.com/github/CarsonBurke/comp215/blob/main/lessons/week01-models.ipynb\" target=\"_parent\"><img src=\"https://colab.research.google.com/assets/colab-badge.svg\" alt=\"Open In Colab\"/></a>"
      ]
    },
    {
      "cell_type": "markdown",
      "source": [
        "# Welcome to Comp 215!\n",
        "Our week 1 lesson workbook, available on Github from the [Hamilton-at-CapU/comp215](https://github.com/Hamilton-at-CapU/comp215) repository.\n",
        "\n",
        "As usual, the first code block just imports the modules we will use."
      ],
      "metadata": {
        "id": "WBMC0GrjNRTM"
      }
    },
    {
      "cell_type": "code",
      "execution_count": 2,
      "metadata": {
        "id": "C1a6aDXAM0WM",
        "ExecuteTime": {
          "end_time": "2023-12-30T22:13:40.129712Z",
          "start_time": "2023-12-30T22:13:40.123220Z"
        }
      },
      "outputs": [],
      "source": [
        "import matplotlib.pyplot as plt\n",
        "%matplotlib inline\n",
        "from pprint import pprint"
      ]
    },
    {
      "cell_type": "markdown",
      "source": [
        "## Using Code to gain insights\n",
        "\n",
        "How can a piece of code help us deepen our understanding of real-world phenomena?  Or explain complex concepts?"
      ],
      "metadata": {
        "id": "Cdg6xKGpLSh2"
      }
    },
    {
      "cell_type": "markdown",
      "source": [
        "\n",
        "### Duckweed Example\n",
        "Duckweed plants double every day in open water. If a pond starts with 2 duckweed plants on day 1 and is completely covered after one month (30 days), on what day is the pond half covered?"
      ],
      "metadata": {
        "id": "k70NJ-JTNwYN"
      }
    },
    {
      "cell_type": "code",
      "source": [
        "# code a model of the duckweed plant growth on the pond to answer the question\n",
        "\n",
        "# POND_SIZE = 2**30# 1_048_576\n",
        "\n",
        "def lilly_growths():\n",
        "  day = 0\n",
        "  lilly_area = 2\n",
        "  lilly_areas = []\n",
        "  days = []\n",
        "\n",
        "  for day in range(0, 30):\n",
        "    day += 1\n",
        "    lilly_area *= 2\n",
        "\n",
        "    days.append(day)\n",
        "    lilly_areas.append(lilly_area)\n",
        "\n",
        "  print(f\"pads grew to cover area {lilly_area} after days {day}\")\n",
        "\n",
        "  half = lilly_area / 2\n",
        "  half_day = lilly_areas.index(half) + 1 # add one because the index lags behind\n",
        "  print(f\"reached half ({half}) at day {half_day}\")\n",
        "\n",
        "  return (lilly_areas, days)"
      ],
      "metadata": {
        "id": "HZSz8IftqJ72",
        "ExecuteTime": {
          "end_time": "2023-12-30T22:13:40.133647Z",
          "start_time": "2023-12-30T22:13:40.126167Z"
        }
      },
      "execution_count": 26,
      "outputs": []
    },
    {
      "cell_type": "markdown",
      "source": [
        "### Plot the Growth\n",
        "We'll use matplotlib for data visualizations throughout the coure, not because it is awesome, but because it is the standard tool used by computational and data scientists."
      ],
      "metadata": {
        "id": "b6w3F2yErxuB"
      }
    },
    {
      "cell_type": "code",
      "source": [
        "# ask ChatGPT to give you an example of a simple example of a matplotlib graph\n",
        "# use the response to plot your duckweek growth model\n",
        "\n",
        "def plot():\n",
        "\n",
        "  # (x, y) = lilly_growths()\n",
        "  (x, y) = lilly_growths()\n",
        "\n",
        "  plt.plot(x, y)\n",
        "  plt.show()\n",
        "\n",
        "plot()"
      ],
      "metadata": {
        "id": "i_5lOF51r63i",
        "ExecuteTime": {
          "end_time": "2023-12-30T22:39:25.831093Z",
          "start_time": "2023-12-30T22:39:25.730333Z"
        },
        "outputId": "bbf34414-d693-4b61-8d61-d5d4010c5b84",
        "colab": {
          "base_uri": "https://localhost:8080/",
          "height": 483
        }
      },
      "execution_count": 29,
      "outputs": [
        {
          "output_type": "stream",
          "name": "stdout",
          "text": [
            "pads grew to cover area 2147483648 after days 30\n",
            "reached half (1073741824.0) at day 29\n"
          ]
        },
        {
          "output_type": "display_data",
          "data": {
            "text/plain": [
              "<Figure size 640x480 with 1 Axes>"
            ],
            "image/png": "[encoded data removed]"
          },
          "metadata": {}
        }
      ]
    },
    {
      "cell_type": "markdown",
      "source": [
        "### Exponential Growth\n",
        "Yes, this is just a simple example of exponential growth.  Although exponential growth occurs in many natural systems, many people find it unintuitive and have a hard time making predictions about it.  Describing duckweed spread on a pond as 'exponential growth' is simply applying an exponential function to the amount of duckweek as a function of time.  This model is (of course) not exactly correct, but is predicts the future amount of duckweek quite well - so it considered useful."
      ],
      "metadata": {
        "id": "4pzxO680MA3J"
      }
    }
  ]
}