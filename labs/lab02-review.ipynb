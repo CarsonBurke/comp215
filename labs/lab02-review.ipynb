{
  "cells": [
    {
      "cell_type": "markdown",
      "metadata": {
        "colab_type": "text",
        "id": "view-in-github"
      },
      "source": [
        "<a href=\"https://colab.research.google.com/github/CarsonBurke/comp215/blob/main/labs/lab02_review.ipynb\" target=\"_parent\"><img src=\"https://colab.research.google.com/assets/colab-badge.svg\" alt=\"Open In Colab\"/></a>"
      ]
    },
    {
      "cell_type": "markdown",
      "metadata": {
        "id": "nbRPZPKZU5Pk"
      },
      "source": [
        "COMP 215 - LAB 2\n",
        "----------------\n",
        "#### Nam(s):\n",
        "#### Date:\n",
        "\n",
        "By the end of this lab you should be able to:\n",
        "  * use strings, tuples, lists, and dictionaries (review)\n",
        "  * use *f-string* to simplify string formatting operations\n",
        "  * write functions and simple unit tests (review)\n",
        "  * use *list comprehension* to implement map and filter algorithms\n",
        "\n",
        "\n",
        "During this lab, you will be introduced to the following:\n",
        "  * API Keys\n",
        "  * JSON data formats\n",
        "  * the `datetime` module to represent dates and times\n",
        "  * the `pprint` module to format data structures"
      ]
    },
    {
      "cell_type": "markdown",
      "metadata": {
        "id": "UtWS08rgocwz"
      },
      "source": [
        "## Near Earth Objects\n",
        "\n",
        "In this lab, we'll answer some questions about [Near Earth Objects](https://cneos.jpl.nasa.gov/) using NASA's API:  [https://api.nasa.gov/](https://api.nasa.gov/#NeoWS).  But, as usual, let's do the imports first.\n"
      ]
    },
    {
      "cell_type": "code",
      "execution_count": 2,
      "metadata": {
        "ExecuteTime": {
          "end_time": "2024-01-04T04:05:38.688434Z",
          "start_time": "2024-01-04T04:05:38.640552Z"
        },
        "id": "uckgiW6LmxA_",
        "pycharm": {
          "name": "#%%\n"
        }
      },
      "outputs": [],
      "source": [
        "import datetime, json, requests\n",
        "from pprint import pprint    # Pretty Print - built-in python function to nicely format data structures"
      ]
    },
    {
      "cell_type": "markdown",
      "metadata": {
        "collapsed": false,
        "id": "z7R9AVbYmxBA",
        "pycharm": {
          "name": "#%% md\n"
        }
      },
      "source": [
        "### dates & f-strings\n",
        "\n",
        "First we need a short tutorial on python dates and [f-strings](https://realpython.com/python-f-strings/)..."
      ]
    },
    {
      "cell_type": "code",
      "execution_count": 3,
      "metadata": {
        "ExecuteTime": {
          "end_time": "2024-01-04T04:05:38.691283Z",
          "start_time": "2024-01-04T04:05:38.688366Z"
        },
        "colab": {
          "base_uri": "https://localhost:8080/"
        },
        "id": "FIqwOe5SmxBA",
        "outputId": "1d6a64d8-c209-4691-ab98-6b7c872eba3b",
        "pycharm": {
          "name": "#%%\n"
        }
      },
      "outputs": [
        {
          "name": "stdout",
          "output_type": "stream",
          "text": [
            "2025-01-13 <class 'datetime.date'>\n",
            "Today is: 2025-01-13\n"
          ]
        }
      ],
      "source": [
        "today = datetime.date.today()   # get a date object representing today's date\n",
        "print(today, type(today))\n",
        "formatted_date = f'Today is: {today}'   # A format string - notice how the variable `today` is formatted into the string\n",
        "print(formatted_date)"
      ]
    },
    {
      "cell_type": "markdown",
      "metadata": {
        "collapsed": false,
        "id": "NyY93KiOmxBB",
        "pycharm": {
          "name": "#%% md\n"
        }
      },
      "source": [
        "### Make an API Query\n",
        "\n",
        "Let's get some data from the NEO database; here's a query that gets the observation \"feed\" for today.  Notice the first line of the block is an 'API key'.  An API key is a unique identifier that authenticates a user when making a request to an API.  Run the block below using the API key 'DEMO_KEY' (just to be sure it works), then go to https://api.nasa.gov and get your own API key.  Use your own API key for the remainder of the lab."
      ]
    },
    {
      "cell_type": "code",
      "execution_count": 4,
      "metadata": {
        "ExecuteTime": {
          "end_time": "2024-01-04T04:05:43.064157Z",
          "start_time": "2024-01-04T04:05:38.691252Z"
        },
        "collapsed": true,
        "id": "vZYx2VfXmxBB",
        "pycharm": {
          "name": "#%%\n"
        }
      },
      "outputs": [
        {
          "name": "stdout",
          "output_type": "stream",
          "text": [
            "17 Near Earth Objects found for 2025-01-13\n",
            "[{'absolute_magnitude_h': 16.48,\n",
            "  'close_approach_data': [{'close_approach_date': '2025-01-13',\n",
            "                           'close_approach_date_full': '2025-Jan-13 01:06',\n",
            "                           'epoch_date_close_approach': 1736730360000,\n",
            "                           'miss_distance': {'astronomical': '0.2580355174',\n",
            "                                             'kilometers': '38601563.787387938',\n",
            "                                             'lunar': '100.3758162686',\n",
            "                                             'miles': '23985899.4965440244'},\n",
            "                           'orbiting_body': 'Earth',\n",
            "                           'relative_velocity': {'kilometers_per_hour': '56146.0991462165',\n",
            "                                                 'kilometers_per_second': '15.5961386517',\n",
            "                                                 'miles_per_hour': '34887.0025500477'}}],\n",
            "  'estimated_diameter': {'feet': {'estimated_diameter_max': 9863.3633022049,\n",
            "                                  'estimated_diameter_min': 4411.0301661014},\n",
            "                         'kilometers': {'estimated_diameter_max': 3.0063530383,\n",
            "                                        'estimated_diameter_min': 1.3444819516},\n",
            "                         'meters': {'estimated_diameter_max': 3006.3530383087,\n",
            "                                    'estimated_diameter_min': 1344.4819516043},\n",
            "                         'miles': {'estimated_diameter_max': 1.8680605938,\n",
            "                                   'estimated_diameter_min': 0.8354220948}},\n",
            "  'id': '2418265',\n",
            "  'is_potentially_hazardous_asteroid': False,\n",
            "  'is_sentry_object': False,\n",
            "  'links': {'self': 'http://api.nasa.gov/neo/rest/v1/neo/2418265?api_key=csllzjb8fuAqEYNmnLtK9fKjKeRgLbLvsTlocbzT'},\n",
            "  'name': '418265 (2008 EA32)',\n",
            "  'nasa_jpl_url': 'https://ssd.jpl.nasa.gov/tools/sbdb_lookup.html#/?sstr=2418265',\n",
            "  'neo_reference_id': '2418265'}]\n"
          ]
        }
      ],
      "source": [
        "API_KEY = 'csllzjb8fuAqEYNmnLtK9fKjKeRgLbLvsTlocbzT'  # substitute your API key here\n",
        "\n",
        "# get today's date (as a string)\n",
        "today = str(datetime.date.today())\n",
        "# today = '2023-01-09'\n",
        "\n",
        "# use an f-string to \"format\" the date and API key varaibles.\n",
        "url = f'https://api.nasa.gov/neo/rest/v1/feed?start_date={today}&end_date={today}&api_key={API_KEY}'\n",
        "\n",
        "# make the API request (recall from lab 1)\n",
        "response = requests.request(\"GET\", url, headers={}, data={})\n",
        "\n",
        "# convert the response to json format (recall from lab 1)\n",
        "data = json.loads(response.text)\n",
        "\n",
        "# TIP: print(data) to see the whole data structure returned, here we grab just the list of NEO's:\n",
        "n_results = data['element_count']\n",
        "neos = data['near_earth_objects'][today]\n",
        "print(f'{n_results} Near Earth Objects found for {today}')\n",
        "pprint(neos[:1])"
      ]
    },
    {
      "cell_type": "markdown",
      "metadata": {
        "collapsed": false,
        "id": "g7VOkS2PmxBB",
        "pycharm": {
          "name": "#%% md\n"
        }
      },
      "source": [
        "Next we extract just the potentially hazerdous asteroids, using a Comp115-style list accumulator *loop*:"
      ]
    },
    {
      "cell_type": "code",
      "execution_count": 5,
      "metadata": {
        "ExecuteTime": {
          "end_time": "2024-01-04T04:05:43.065108Z",
          "start_time": "2024-01-04T04:05:43.062239Z"
        },
        "colab": {
          "base_uri": "https://localhost:8080/"
        },
        "id": "JDGbYTySU3BP",
        "outputId": "5c296d91-05e8-4849-ffde-0068bf2b02d3"
      },
      "outputs": [
        {
          "name": "stdout",
          "output_type": "stream",
          "text": [
            "0 potentially hazardous asteroids identified.\n"
          ]
        }
      ],
      "source": [
        "hazards =  []\n",
        "for item in neos:\n",
        "  if item['is_potentially_hazardous_asteroid'] is True:\n",
        "    hazards.append(item)\n",
        "print(f'{len(hazards)} potentially hazardous asteroids identified.')"
      ]
    },
    {
      "cell_type": "markdown",
      "metadata": {
        "collapsed": false,
        "id": "Um5gAiVTmxBC",
        "pycharm": {
          "name": "#%% md\n"
        }
      },
      "source": [
        "### Fetch Complete Data for One Asteroid\n",
        "\n",
        "Notice that the record for each `neo` is a dictionary with `id` field that uniquely identifies this record in the database.  We can use this `id` to fetch complete orbital and close approach data for the NEO.  For example, this query fetches the complete data set for the first hazardous asteroid...  Notice that the `miss_distance` field contains the distance (in various units) by which the NEO missed an \"orbiting body\".\n"
      ]
    },
    {
      "cell_type": "code",
      "execution_count": 6,
      "metadata": {
        "ExecuteTime": {
          "end_time": "2024-01-04T04:05:43.787125Z",
          "start_time": "2024-01-04T04:05:43.067936Z"
        },
        "collapsed": true,
        "id": "NVRl3l7EmxBC",
        "pycharm": {
          "name": "#%%\n"
        }
      },
      "outputs": [
        {
          "ename": "IndexError",
          "evalue": "list index out of range",
          "output_type": "error",
          "traceback": [
            "\u001b[0;31m---------------------------------------------------------------------------\u001b[0m",
            "\u001b[0;31mIndexError\u001b[0m                                Traceback (most recent call last)",
            "Cell \u001b[0;32mIn[6], line 1\u001b[0m\n\u001b[0;32m----> 1\u001b[0m \u001b[38;5;28mid\u001b[39m \u001b[38;5;241m=\u001b[39m \u001b[43mhazards\u001b[49m\u001b[43m[\u001b[49m\u001b[38;5;241;43m0\u001b[39;49m\u001b[43m]\u001b[49m[\u001b[38;5;124m'\u001b[39m\u001b[38;5;124mid\u001b[39m\u001b[38;5;124m'\u001b[39m]\n\u001b[1;32m      2\u001b[0m url \u001b[38;5;241m=\u001b[39m \u001b[38;5;124mf\u001b[39m\u001b[38;5;124m'\u001b[39m\u001b[38;5;124mhttps://api.nasa.gov/neo/rest/v1/neo/\u001b[39m\u001b[38;5;132;01m{\u001b[39;00m\u001b[38;5;28mid\u001b[39m\u001b[38;5;132;01m}\u001b[39;00m\u001b[38;5;124m?api_key=\u001b[39m\u001b[38;5;132;01m{\u001b[39;00mAPI_KEY\u001b[38;5;132;01m}\u001b[39;00m\u001b[38;5;124m'\u001b[39m\n\u001b[1;32m      3\u001b[0m response \u001b[38;5;241m=\u001b[39m requests\u001b[38;5;241m.\u001b[39mrequest(\u001b[38;5;124m\"\u001b[39m\u001b[38;5;124mGET\u001b[39m\u001b[38;5;124m\"\u001b[39m, url, headers\u001b[38;5;241m=\u001b[39m{}, data\u001b[38;5;241m=\u001b[39m{})\n",
            "\u001b[0;31mIndexError\u001b[0m: list index out of range"
          ]
        }
      ],
      "source": [
        "id = hazards[0]['id']\n",
        "url = f'https://api.nasa.gov/neo/rest/v1/neo/{id}?api_key={API_KEY}'\n",
        "response = requests.request(\"GET\", url, headers={}, data={})\n",
        "data = json.loads(response.text)\n",
        "\n",
        "pprint(data)"
      ]
    },
    {
      "cell_type": "markdown",
      "metadata": {
        "collapsed": false,
        "id": "93ns5r8gmxBB",
        "pycharm": {
          "name": "#%% md\n"
        }
      },
      "source": [
        "## Exercise 1\n",
        "\n",
        "In the code cell below, **re-write the accumulator loop** that creates the list of hazards as a [list comprehension](https://realpython.com/lessons/list-comprehensions-overview/) that implements a [\"filter\"](https://youtu.be/hUes6y2b--0)\n",
        "Notice how this provides a concise way to \"filter\" items of interest from a larger data set."
      ]
    },
    {
      "cell_type": "code",
      "execution_count": 7,
      "metadata": {
        "ExecuteTime": {
          "end_time": "2024-01-04T04:05:43.069849Z",
          "start_time": "2024-01-04T04:05:43.065922Z"
        },
        "id": "ewkwkc8wmxBB",
        "pycharm": {
          "name": "#%%\n"
        }
      },
      "outputs": [
        {
          "name": "stdout",
          "output_type": "stream",
          "text": [
            "0 potentially hazardous asteroids identified.\n"
          ]
        }
      ],
      "source": [
        "# Ex. 1 your code here\n",
        "\n",
        "hazards = [item for item in neos if item['is_potentially_hazardous_asteroid'] is True]\n",
        "print(f'{len(hazards)} potentially hazardous asteroids identified.')"
      ]
    },
    {
      "cell_type": "markdown",
      "metadata": {
        "id": "DNRs7ynOYwYk"
      },
      "source": [
        "\n",
        "\n",
        "## Exercise 2\n",
        "\n",
        "In the code cell below, write a python function that takes a list of \"close approach data\" as a parameter,\n",
        "and returns a 2-tuple with the (date, miss km) of the closest approach to Earth in the list (where \"miss km\" is the miss distance in km).\n",
        "\n",
        "Hints:\n",
        "* notice the input is a list of dictionaries.  Each dictionary has a 'close_approach_date\", \"orbiting_body\", and 'miss_distance' field.\n",
        "* we are only interested in the closest approach to \"Earth\"\n",
        "* use a loop if that is easier to understand - we will look at more compact algorithms to solve this problem in class.\n",
        "\n",
        "Add at least one unit test to check your work - note the test data only needs dictionaries with the fields your function actually uses.\n"
      ]
    },
    {
      "cell_type": "code",
      "execution_count": 8,
      "metadata": {
        "ExecuteTime": {
          "end_time": "2024-01-04T04:05:43.790535Z",
          "start_time": "2024-01-04T04:05:43.787064Z"
        },
        "id": "tiyXTDfnZAd0"
      },
      "outputs": [
        {
          "name": "stdout",
          "output_type": "stream",
          "text": [
            "('2025-01-13', 3151350.085819741)\n"
          ]
        }
      ],
      "source": [
        "# Ex. 2 your code here\n",
        "\n",
        "# import math for infinity\n",
        "import math\n",
        "\n",
        "# Basic data on approaching asteroids\n",
        "def getNeoBasics(data):\n",
        "    closest = [datetime.date.today(), math.inf] # [date, miss km]\n",
        "    \n",
        "    # we could sort, but this has a lower time complexity\n",
        "    \n",
        "    for neo in data:\n",
        "        close_approach_data = neo[\"close_approach_data\"][0]\n",
        "        \n",
        "        # gaurd for earth\n",
        "        if close_approach_data[\"orbiting_body\"] != \"Earth\": continue\n",
        "        \n",
        "        misskm = float(close_approach_data[\"miss_distance\"][\"kilometers\"])\n",
        "        # gaurd for lower distance (only pass if closer to earth)\n",
        "        if closest[1] <= misskm: continue\n",
        "        # assign\n",
        "        closest = [close_approach_data[\"close_approach_date\"], misskm]\n",
        "        \n",
        "    # convert to tuple I guess\n",
        "    return tuple(closest)\n",
        "    \n",
        "print(getNeoBasics(neos))"
      ]
    },
    {
      "cell_type": "markdown",
      "metadata": {
        "collapsed": false,
        "id": "BrVVSFCnmxBC"
      },
      "source": [
        "## Challenge Exercise\n",
        "\n",
        "In the code cell below, write a complete program that:\n",
        " 1. fetches the list of NEO's for this week.\n",
        " 2. for each NEO, fetch it's complete orbital data and determine its closest approach to Earth\n",
        " 3. identify which NEO from this week's data makes the closet approach to earth\n",
        " 4. print a nice message with information about the NEO, which it will approach the Earth, and how close it will come.\n",
        "\n",
        "Hints:\n",
        "* you'll need the start and end date - end date is today, see if you can use a [`timedelta`](https://docs.python.org/3/library/datetime.html#timedelta-objects) object to ge the start date (you can do basic \"date math\" with `timedelta` and `date` objects!)\n",
        "* you may need to modify the function we wrote in Ex. 2 to return a triple with the NEO's id included;\n",
        "* lots of opportunity here for more practice with list comprehensions\n"
      ]
    },
    {
      "cell_type": "code",
      "execution_count": 27,
      "metadata": {
        "ExecuteTime": {
          "end_time": "2024-01-04T04:05:43.790766Z",
          "start_time": "2024-01-04T04:05:43.789211Z"
        },
        "id": "Ds1YevErlzCe",
        "pycharm": {
          "name": "#%%\n"
        }
      },
      "outputs": [
        {
          "name": "stdout",
          "output_type": "stream",
          "text": [
            "2025-01-06\n",
            "The asteroid will be closest to Earth on 2025-01-09 with a miss distance of 1041282.96 km.\n"
          ]
        }
      ],
      "source": [
        "# Ex. 3 (challenge) your code here\n",
        "\n",
        "# thoughts\n",
        "# closest approach to earth is just miss km right?\n",
        "\n",
        "def closestNeoOfWeek():\n",
        "    previous_week = datetime.date.today() - datetime.timedelta(weeks=1)\n",
        "    print(previous_week)\n",
        "    url = f'https://api.nasa.gov/neo/rest/v1/feed?start_date={previous_week}&end_date={today}&api_key={API_KEY}'\n",
        "    \n",
        "    response = requests.request(\"GET\", url, headers={}, data={})\n",
        "    data = json.loads(response.text)\n",
        "    \n",
        "    closest = [None, math.inf] # [date, miss km]\n",
        "    \n",
        "    for x in data[\"near_earth_objects\"]:\n",
        "\n",
        "        neos = data[\"near_earth_objects\"][x]\n",
        "    \n",
        "        for neo in neos:\n",
        "            # same logic as previous exercise\n",
        "            \n",
        "            close_approach_data = neo[\"close_approach_data\"][0]\n",
        "\n",
        "            # gaurd for earth\n",
        "            if close_approach_data[\"orbiting_body\"] != \"Earth\": continue\n",
        "            \n",
        "            misskm = float(close_approach_data[\"miss_distance\"][\"kilometers\"])\n",
        "            # gaurd for lower distance (only pass if closer to earth)\n",
        "            if closest[1] <= misskm: continue\n",
        "            # assign\n",
        "            closest = [close_approach_data[\"close_approach_date\"], misskm]\n",
        "    \n",
        "    print(f\"The asteroid will be closest to Earth on {closest[0]} with a miss distance of {closest[1]:.2f} km.\")\n",
        "\n",
        "closestNeoOfWeek()"
      ]
    }
  ],
  "metadata": {
    "colab": {
      "include_colab_link": true,
      "provenance": []
    },
    "kernelspec": {
      "display_name": "Python 3",
      "language": "python",
      "name": "python3"
    },
    "language_info": {
      "codemirror_mode": {
        "name": "ipython",
        "version": 3
      },
      "file_extension": ".py",
      "mimetype": "text/x-python",
      "name": "python",
      "nbconvert_exporter": "python",
      "pygments_lexer": "ipython3",
      "version": "3.13.1"
    }
  },
  "nbformat": 4,
  "nbformat_minor": 0
}
