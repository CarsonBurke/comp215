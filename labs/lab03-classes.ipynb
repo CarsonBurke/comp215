{
  "cells": [
    {
      "cell_type": "markdown",
      "metadata": {
        "colab_type": "text",
        "id": "view-in-github"
      },
      "source": [
        "<a href=\"https://colab.research.google.com/github/CarsonBurke/comp215/blob/main/labs/lab03-classes.ipynb\" target=\"_parent\"><img src=\"https://colab.research.google.com/assets/colab-badge.svg\" alt=\"Open In Colab\"/></a>"
      ]
    },
    {
      "cell_type": "markdown",
      "metadata": {
        "id": "nbRPZPKZU5Pk"
      },
      "source": [
        "COMP 215 - LAB 3\n",
        "----------------\n",
        "#### Name(s):\n",
        "#### Date:\n",
        "\n",
        "By the end of this lab you should be able to:\n",
        "  * use a `class` to organize related data and functions\n",
        "  * identify a `record` as a related collection of data, with fields for each data value\n",
        "\n",
        "During this lab, you will be introduced to the following:\n",
        "  * the `@dataclass` decorator to simplify class definition for classes that primarily encapsulate a data structure.\n",
        "  * the `@classmethod` decorator to create 'object factories'.\n",
        "  * plotting frequency distributions in `matplotlib`\n",
        "\n"
      ]
    },
    {
      "cell_type": "markdown",
      "metadata": {
        "id": "j0F0hjKzgQ1W"
      },
      "source": [
        "## Near Earth Objects (with classes)\n",
        "\n",
        "We'll continue working with Near Earth Object data using NASA's API: https://api.nasa.gov/.  In this lab we will define an Asteroid class to help us structure the data for easier data analysis.  Here's a brief review from Lab 2 on how to use the API.  "
      ]
    },
    {
      "cell_type": "code",
      "execution_count": 2,
      "metadata": {
        "ExecuteTime": {
          "end_time": "2024-01-04T04:10:54.380220Z",
          "start_time": "2024-01-04T04:10:54.335677Z"
        },
        "id": "TLWTJDuVfSzO",
        "pycharm": {
          "name": "#%%\n"
        }
      },
      "outputs": [],
      "source": [
        "# import necessary modules\n",
        "import datetime, json, requests\n",
        "from dataclasses import dataclass\n",
        "from pprint import pprint\n",
        "import matplotlib.pyplot as plt\n",
        "%matplotlib inline"
      ]
    },
    {
      "cell_type": "markdown",
      "metadata": {
        "collapsed": false,
        "id": "ug6L49x3fSzP",
        "pycharm": {
          "name": "#%% md\n"
        }
      },
      "source": [
        "### Review: make an API query\n",
        "\n",
        "Here's a query that gets the record for a single NEO that recently passed by.  Read these functions carefully to be sure you know what they are returning.  Note the nested for loop structure in the return statement of the `get_neos` function - be sure to understand what it is doing.  You might want to add some more `pprint` statements to be sure you understand the data structures."
      ]
    },
    {
      "cell_type": "code",
      "execution_count": 53,
      "metadata": {
        "ExecuteTime": {
          "end_time": "2024-01-04T04:11:12.889668Z",
          "start_time": "2024-01-04T04:10:54.383166Z"
        },
        "collapsed": true,
        "id": "7Ex-7gB4fSzP",
        "pycharm": {
          "name": "#%%\n"
        }
      },
      "outputs": [
        {
          "name": "stdout",
          "output_type": "stream",
          "text": [
            "117 Near Earth Objects found for week of 2023-01-15\n"
          ]
        }
      ],
      "source": [
        "API_KEY = 'csllzjb8fuAqEYNmnLtK9fKjKeRgLbLvsTlocbzT'  # substitute your API key here\n",
        "\n",
        "def get_neos(start_date):\n",
        "    \"\"\" Return a list of NEO for the week starting at start_date \"\"\"\n",
        "    url = f'https://api.nasa.gov/neo/rest/v1/feed?start_date={start_date}&api_key={API_KEY}'\n",
        "    # Fetch last week's NEO feed\n",
        "    response = requests.request(\"GET\", url, headers={}, data={})\n",
        "    data = json.loads(response.text)\n",
        "    print(f'{data[\"element_count\"]} Near Earth Objects found for week of {start_date}')\n",
        "    return [neo for dated_records in data['near_earth_objects'].values() for neo in dated_records ]\n",
        "\n",
        "def get_neo(id):\n",
        "    \"\"\" Return a NEO record for the given id \"\"\"\n",
        "    url = f'https://api.nasa.gov/neo/rest/v1/neo/{id}?api_key={API_KEY}'\n",
        "    response = requests.request(\"GET\", url, headers={}, data={})\n",
        "    return json.loads(response.text)\n",
        "\n",
        "week_start = '2023-01-15'\n",
        "neos = get_neos(week_start)\n",
        "assert len(neos) > 0, f'Oh oh!  No NEOs found for {week_start}'\n",
        "neo = get_neo(neos[-1]['id'])  # get the very latest NEO\n"
      ]
    },
    {
      "cell_type": "markdown",
      "metadata": {
        "collapsed": false,
        "id": "DcpH1nvJfSzP",
        "pycharm": {
          "name": "#%% md\n"
        }
      },
      "source": [
        "## Exercise 1:  Define an Asteroid class\n",
        "\n",
        "Define a simple Asteroid class with some basic state variables for a single NEO.  Your Asteroid class should define at least 4 \"state variables:”\n",
        "\n",
        "    id\n",
        "    name\n",
        "    estimated_diameter (m)\n",
        "    is_potentially_hazardous (bool)\n",
        "\n",
        "Operations must include:\n",
        "* `__init__(self, ...)` method to initialize a new Asteroid object with specific data values\n",
        "* `__str__(self)`, and `__repr__(self)` methods that return nicely formatted string representations of the object.\n",
        "\n",
        "Write a little code to test your new class."
      ]
    },
    {
      "cell_type": "code",
      "execution_count": 61,
      "metadata": {
        "ExecuteTime": {
          "end_time": "2024-01-04T04:11:12.891665Z",
          "start_time": "2024-01-04T04:11:12.889274Z"
        },
        "id": "FklvnAw4fSzQ",
        "pycharm": {
          "name": "#%%\n"
        }
      },
      "outputs": [
        {
          "name": "stdout",
          "output_type": "stream",
          "text": [
            "id: 1 name: ast_name est. diameter: 100 is hazardous: False\n",
            "False\n"
          ]
        }
      ],
      "source": [
        "# Ex.1 your code here\n",
        "\n",
        "class Asteroid:\n",
        "    def __init__(self, id, name, estimated_diameter, is_potentially_hazardous):\n",
        "        self.id = id\n",
        "        self.name = name\n",
        "        self.estimated_diameter = estimated_diameter\n",
        "        self.is_potentially_hazardous = is_potentially_hazardous\n",
        "    \n",
        "    # A static method feels ergonomic here\n",
        "    @staticmethod\n",
        "    def from_any_neo(any_neo):\n",
        "        return Asteroid(any_neo[\"id\"], any_neo[\"name\"], any_neo[\"estimated_diameter\"][\"meters\"][\"estimated_diameter_max\"], any_neo[\"is_potentially_hazardous_asteroid\"])\n",
        "        \n",
        "    def __str__(self):\n",
        "        return f'id: {self.id} name: {self.name} est. diameter: {self.estimated_diameter} is hazardous: {self.is_potentially_hazardous}'\n",
        "    \n",
        "    def __repr__(self):\n",
        "        return self.__str__()\n",
        "    \n",
        "# tests (not a whole lot to test)\n",
        "\n",
        "# see the result of str and repr\n",
        "test_asteroid = Asteroid(1, \"ast_name\", 100, False)\n",
        "print(test_asteroid)\n",
        "\n",
        "# make sure our factory works\n",
        "\n",
        "test_neo = {\n",
        "    \"id\": 1,\n",
        "    \"name\": \"ast_name\",\n",
        "    \"estimated_diameter\": {\n",
        "        \"meters\": {\n",
        "            \"estimated_diameter_max\": 100\n",
        "        }\n",
        "    },\n",
        "    \"is_potentially_hazardous_asteroid\": False,\n",
        "}\n",
        "test_asteroid_from_neo = Asteroid.from_any_neo(test_neo)\n",
        "\n",
        "print(test_asteroid == test_asteroid_from_neo)"
      ]
    },
    {
      "cell_type": "markdown",
      "metadata": {
        "id": "1BIePZEEVbhK"
      },
      "source": [
        "## Exercise 2: Make a histogram\n",
        "\n",
        "Create a list of all the Asteroid objects from this week's NEO feed and use the list to create a histogram to visualize the distribution of Asteroid diameters.  To create the historgram use the `hist()` method in the `matplotlib.pyplot` module."
      ]
    },
    {
      "cell_type": "code",
      "execution_count": 46,
      "metadata": {
        "id": "orJxuk8nVd_B"
      },
      "outputs": [
        {
          "data": {
            "text/plain": [
              "(array([95., 12.,  3.,  2.,  2.,  2.,  0.,  0.,  0.,  1.]),\n",
              " array([   4.4059542 ,  270.67577601,  536.94559781,  803.21541962,\n",
              "        1069.48524142, 1335.75506322, 1602.02488503, 1868.29470683,\n",
              "        2134.56452864, 2400.83435044, 2667.10417224]),\n",
              " <BarContainer object of 10 artists>)"
            ]
          },
          "execution_count": 46,
          "metadata": {},
          "output_type": "execute_result"
        },
        {
          "data": {
            "image/png": "[encoded data removed]",
            "text/plain": [
              "<Figure size 640x480 with 1 Axes>"
            ]
          },
          "metadata": {},
          "output_type": "display_data"
        }
      ],
      "source": [
        "# Ex. 2 your code here\n",
        "\n",
        "# print(neos)\n",
        "\n",
        "# construct a list of asteroid instances\n",
        "\n",
        "asteroids = []\n",
        "\n",
        "for neo in neos:\n",
        "\n",
        "    asteroid = Asteroid.from_any_neo(neo)\n",
        "    asteroids.append(asteroid)\n",
        "\n",
        "# get each diameter from each asteroid\n",
        "plt.hist(list(map(lambda ast: ast.estimated_diameter, asteroids)))"
      ]
    },
    {
      "cell_type": "markdown",
      "metadata": {
        "id": "oae6EWIhQW76"
      },
      "source": [
        "## Exercise 3: Use `@dataclass` and `@classmethod` to do the same thing\n",
        "\n",
        "Now that you know how to define a simple class, we are going to use a use decorators to simplify (ie. shorten) our class definitions.  You will redefine the Asteroid class in this exercise.  Note that having two different definitions of a class in a single piece of code is very bad practice. I am asking you to do it here just so that you can see the differt ways to define classes.\n",
        "\n",
        " 1. Use the `@dataclass` decorator from the `dataclasses` module to define the Asteroid class.  The `@dataclass` decorator will automatically generate some of the commonly used methods, like `__init()__`, `__repr()__`, and `__eq()__`.  The definition should start like this:\n",
        "    ```\n",
        "    @dataclass\n",
        "    class Asteroid:\n",
        "      ...\n",
        "    ```\n",
        "Write a little code to test your new class.\n",
        "  \n",
        "\n",
        " 2. Use the `@classmethod` decorator to construct a `from_NEO()` 'factory method' inside your Asteroid class that creates Asteroid objects from the NEO API.  The method should take the id for a single NEO, fetche the NEO record from API, constructs a single Asteroid object, and return the Asteroid object representing that NEO.  This kind of method is called a “Factory” because it constructs an object from raw materials.  The object factory method should start like this:\n",
        "    ```\n",
        "    @classmethod\n",
        "    from_NEO(cls, neo_id):\n",
        "        ...\n",
        "    ```\n",
        "Write a little code to test your new method.\n",
        "\n",
        " 3. Use your new Asteroid class to create a list of Asteroid objects.  Use this list to create the same historgram as in Exercise 2.  \n",
        "\n",
        "\n"
      ]
    },
    {
      "cell_type": "code",
      "execution_count": null,
      "metadata": {
        "id": "ygUi21mXX25Y"
      },
      "outputs": [
        {
          "data": {
            "text/plain": [
              "(array([95., 12.,  3.,  2.,  2.,  2.,  0.,  0.,  0.,  1.]),\n",
              " array([   4.4059542 ,  270.67577601,  536.94559781,  803.21541962,\n",
              "        1069.48524142, 1335.75506322, 1602.02488503, 1868.29470683,\n",
              "        2134.56452864, 2400.83435044, 2667.10417224]),\n",
              " <BarContainer object of 10 artists>)"
            ]
          },
          "execution_count": 55,
          "metadata": {},
          "output_type": "execute_result"
        },
        {
          "data": {
            "image/png": "[encoded data removed]",
            "text/plain": [
              "<Figure size 640x480 with 1 Axes>"
            ]
          },
          "metadata": {},
          "output_type": "display_data"
        }
      ],
      "source": [
        "# Ex.3 your code here\n",
        "from dataclasses import dataclass\n",
        "\n",
        "@dataclass\n",
        "class AsteroidAlt:\n",
        "    # yay types\n",
        "    id: int\n",
        "    name: str\n",
        "    estimated_diameter: float\n",
        "    is_potentially_hazardous: bool\n",
        "    \n",
        "    @classmethod\n",
        "    def from_NEO(cls, neo):\n",
        "        return cls(neo[\"id\"], neo[\"name\"], neo[\"estimated_diameter\"][\"meters\"][\"estimated_diameter_max\"], neo[\"is_potentially_hazardous_asteroid\"])\n",
        "        \n",
        "asteroids_alt = []\n",
        "\n",
        "for neo in neos:\n",
        "    # passing in the id and then getting the id is too slow, better to pass the neo itself\n",
        "    asteroid = AsteroidAlt.from_NEO(neo)\n",
        "    asteroids_alt.append(asteroid)\n",
        "\n",
        "# get each diameter from each asteroid\n",
        "plt.hist(list(map(lambda ast: ast.estimated_diameter, asteroids_alt)))"
      ]
    },
    {
      "cell_type": "markdown",
      "metadata": {
        "id": "4TznF_wiZJqu"
      },
      "source": [
        "## Challenge Exercise:\n",
        "\n",
        "One of your esteemed astromoner collegues has a theory that there is a correlation between the diameter and the orbital period of an asteroid.  Add the `orbital_period` data from the NEO API to your Asteroid class definition and use it to plot the orbital period (in years) versus the estimated diameter (in m) of all the asteroids from this week's NEO record.  Do you see a correlation?"
      ]
    },
    {
      "cell_type": "code",
      "execution_count": 73,
      "metadata": {
        "id": "bXJbBGDHZWjP"
      },
      "outputs": [
        {
          "name": "stdout",
          "output_type": "stream",
          "text": [
            "iter 0\n",
            "iter 1\n",
            "iter 2\n",
            "iter 3\n",
            "iter 4\n",
            "iter 5\n",
            "iter 6\n",
            "iter 7\n",
            "iter 8\n",
            "iter 9\n",
            "iter 10\n",
            "iter 11\n",
            "iter 12\n",
            "iter 13\n",
            "iter 14\n",
            "iter 15\n",
            "iter 16\n",
            "iter 17\n",
            "iter 18\n",
            "iter 19\n",
            "iter 20\n",
            "iter 21\n",
            "iter 22\n",
            "iter 23\n",
            "iter 24\n",
            "iter 25\n",
            "iter 26\n",
            "iter 27\n",
            "iter 28\n",
            "iter 29\n",
            "iter 30\n",
            "iter 31\n",
            "31\n"
          ]
        },
        {
          "data": {
            "text/plain": [
              "<matplotlib.collections.PathCollection at 0x7fb0e75e5090>"
            ]
          },
          "execution_count": 73,
          "metadata": {},
          "output_type": "execute_result"
        },
        {
          "data": {
            "image/png": "[encoded data removed]",
            "text/plain": [
              "<Figure size 640x480 with 1 Axes>"
            ]
          },
          "metadata": {},
          "output_type": "display_data"
        }
      ],
      "source": [
        "# Ex. Challenge your code here\n",
        "from dataclasses import dataclass\n",
        "\n",
        "@dataclass\n",
        "class ChallengeAsteroid:\n",
        "    id: int\n",
        "    name: str\n",
        "    estimated_diameter: float\n",
        "    is_potentially_hazardous: bool\n",
        "    orbital_period: float\n",
        "    \n",
        "    @classmethod\n",
        "    def from_NEO(cls, neo_id):\n",
        "        neo = get_neo(neo_id)\n",
        "\n",
        "        return cls(neo[\"id\"], neo[\"name\"], neo[\"estimated_diameter\"][\"meters\"][\"estimated_diameter_max\"], neo[\"is_potentially_hazardous_asteroid\"], neo[\"orbital_data\"][\"orbital_period\"])\n",
        "\n",
        "challenge_asteroids = []\n",
        "\n",
        "i = 0\n",
        "for neo in neos:\n",
        "    print(\"iter\", i)\n",
        "    # limit otherwise it takes too long to get all asteroids\n",
        "    if i > 30: break\n",
        "    i += 1\n",
        "\n",
        "    challenge_asteroids.append(ChallengeAsteroid.from_NEO(neo[\"id\"]))\n",
        "    \n",
        "print(len(challenge_asteroids))\n",
        "plt.scatter(\n",
        "    # x - estimated diameter\n",
        "    list(map(lambda ast: ast.estimated_diameter, challenge_asteroids)),\n",
        "    # y - orbital period\n",
        "    list(map(lambda ast: round(float(ast.orbital_period), 2), challenge_asteroids))\n",
        ")"
      ]
    }
  ],
  "metadata": {
    "colab": {
      "include_colab_link": true,
      "provenance": []
    },
    "kernelspec": {
      "display_name": "Python 3",
      "language": "python",
      "name": "python3"
    },
    "language_info": {
      "codemirror_mode": {
        "name": "ipython",
        "version": 3
      },
      "file_extension": ".py",
      "mimetype": "text/x-python",
      "name": "python",
      "nbconvert_exporter": "python",
      "pygments_lexer": "ipython3",
      "version": "3.13.1"
    }
  },
  "nbformat": 4,
  "nbformat_minor": 0
}
