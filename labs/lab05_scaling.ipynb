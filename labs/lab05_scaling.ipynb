{
  "cells": [
    {
      "cell_type": "markdown",
      "metadata": {
        "colab_type": "text",
        "id": "view-in-github"
      },
      "source": [
        "<a href=\"https://colab.research.google.com/github/CarsonBurke/comp215/blob/main/labs/lab05_scaling.ipynb\" target=\"_parent\"><img src=\"https://colab.research.google.com/assets/colab-badge.svg\" alt=\"Open In Colab\"/></a>"
      ]
    },
    {
      "cell_type": "markdown",
      "metadata": {
        "id": "maj2ZJihN_mq"
      },
      "source": [
        "COMP 215 - LAB 5\n",
        "----------------\n",
        "#### Name(s):\n",
        "#### Date:\n",
        "\n",
        "By the end of this lab you should be able to:\n",
        "  * apply both a direct (ie. brute force) and heuristic algorithm to a problem\n",
        "  * use the networkx module to visualize graphs\n",
        "  * measure algorithm scaling\n",
        "\n",
        "\n",
        "During this lab, you will be introduced to the following:\n",
        "  * seeding the random module\n",
        "\n"
      ]
    },
    {
      "cell_type": "markdown",
      "metadata": {
        "id": "bXq2viKmFY-h"
      },
      "source": [
        "## The Traveling Salesperson Problem\n",
        "\n",
        "This lab is based on the famous Traveling Salesperson Problem (TSP) outlined in Section 3.3.2 of 'On Complexity'.  Imagine you needed to travel to ten different cities.  What is the sortest possible route you could take to visit every city?  For our version of the problem, you start from a specific city and must end on the same city.\n",
        "\n",
        "In this lab, you will implement a direct (ie. brute force) and a heuristic solution to the problem."
      ]
    },
    {
      "cell_type": "code",
      "execution_count": 2,
      "metadata": {
        "id": "XAr1Vf5HiC6N"
      },
      "outputs": [],
      "source": [
        "# start with some imports\n",
        "import random, math, time, itertools\n",
        "import networkx as nx\n",
        "import matplotlib.pyplot as plt\n",
        "%matplotlib inline\n",
        "from pprint import pprint"
      ]
    },
    {
      "cell_type": "markdown",
      "metadata": {
        "id": "P69qc4NLXcHA"
      },
      "source": [
        "## Set up the map\n",
        "\n",
        "For this implementation of the problem we will randomly place N cities on a 100 by 100 grid.  Cities will be labelled using a single character; 'A', 'B', 'C', etc.  City locations will be denoted by a 2-tuple, `(x,y)`, giving their position on the grid. In order to create reproducable maps, we will use [random.seed()](https://docs.python.org/3/library/random.html#random.seed) to initialize the random module.  "
      ]
    },
    {
      "cell_type": "code",
      "execution_count": 3,
      "metadata": {
        "id": "lHqZss26iNtY"
      },
      "outputs": [],
      "source": [
        "from pyparsing import with_attribute\n",
        "\n",
        "\n",
        "def setup_map(N, seed=1):\n",
        "  ''' Returns a map of N cities with random locations on a 100 by 100 grid '''\n",
        "  random.seed(seed)\n",
        "  city_locations = [(random.randint(0, 100), random.randint(0, 100)) for i in range(N)]\n",
        "  city_names = [chr(65 + i) for i in range(N)]\n",
        "  city_map = dict(zip(city_names, city_locations))\n",
        "  return city_map\n",
        "\n",
        "def graph_map(city_map):\n",
        "  ''' graph the map of cities using networkx'''\n",
        "  G = nx.Graph()\n",
        "  G.add_nodes_from(city_map)\n",
        "  nx.draw(G, city_map, with_labels=True)\n",
        "\n",
        "def distance(city1, city2, city_map):\n",
        "  ''' Returns the distance between two cities on a map'''\n",
        "  x1, y1 = city_map[city1]\n",
        "  x2, y2 = city_map[city2]\n",
        "  return round(math.sqrt((x2 - x1)**2 + (y2 - y1)**2),1)\n",
        "\n",
        "def calculate_distances(city_map):\n",
        "  ''' Returns a dictionary with the distances between all pairs of cities in a map '''\n",
        "  distances = {}\n",
        "  for city1 in city_map:\n",
        "      for city2 in city_map:\n",
        "          if city1 != city2:\n",
        "              # this will have duplicate distances (A,B) and (B,A)\n",
        "              # these duplicates make the algorithm implememntation simpler\n",
        "              distances[(city1, city2)] = distance(city1, city2, city_map)\n",
        "  return distances\n"
      ]
    },
    {
      "cell_type": "code",
      "execution_count": 27,
      "metadata": {
        "id": "d0ZFBtOPpU-P"
      },
      "outputs": [
        {
          "name": "stdout",
          "output_type": "stream",
          "text": [
            "City Map: {'A': (17, 72), 'B': (97, 8), 'C': (32, 15), 'D': (63, 97), 'E': (57, 60), 'F': (83, 48), 'G': (100, 26), 'H': (12, 62), 'I': (3, 49), 'J': (55, 77)}\n",
            "Distances between cities: {('A', 'B'): 102.4, ('A', 'C'): 58.9, ('A', 'D'): 52.4, ('A', 'E'): 41.8, ('A', 'F'): 70.2, ('A', 'G'): 94.9, ('A', 'H'): 11.2, ('A', 'I'): 26.9, ('A', 'J'): 38.3, ('B', 'A'): 102.4, ('B', 'C'): 65.4, ('B', 'D'): 95.3, ('B', 'E'): 65.6, ('B', 'F'): 42.4, ('B', 'G'): 18.2, ('B', 'H'): 100.7, ('B', 'I'): 102.6, ('B', 'J'): 80.8, ('C', 'A'): 58.9, ('C', 'B'): 65.4, ('C', 'D'): 87.7, ('C', 'E'): 51.5, ('C', 'F'): 60.7, ('C', 'G'): 68.9, ('C', 'H'): 51.1, ('C', 'I'): 44.7, ('C', 'J'): 66.1, ('D', 'A'): 52.4, ('D', 'B'): 95.3, ('D', 'C'): 87.7, ('D', 'E'): 37.5, ('D', 'F'): 52.9, ('D', 'G'): 80.1, ('D', 'H'): 61.9, ('D', 'I'): 76.8, ('D', 'J'): 21.5, ('E', 'A'): 41.8, ('E', 'B'): 65.6, ('E', 'C'): 51.5, ('E', 'D'): 37.5, ('E', 'F'): 28.6, ('E', 'G'): 54.8, ('E', 'H'): 45.0, ('E', 'I'): 55.1, ('E', 'J'): 17.1, ('F', 'A'): 70.2, ('F', 'B'): 42.4, ('F', 'C'): 60.7, ('F', 'D'): 52.9, ('F', 'E'): 28.6, ('F', 'G'): 27.8, ('F', 'H'): 72.4, ('F', 'I'): 80.0, ('F', 'J'): 40.3, ('G', 'A'): 94.9, ('G', 'B'): 18.2, ('G', 'C'): 68.9, ('G', 'D'): 80.1, ('G', 'E'): 54.8, ('G', 'F'): 27.8, ('G', 'H'): 95.1, ('G', 'I'): 99.7, ('G', 'J'): 68.0, ('H', 'A'): 11.2, ('H', 'B'): 100.7, ('H', 'C'): 51.1, ('H', 'D'): 61.9, ('H', 'E'): 45.0, ('H', 'F'): 72.4, ('H', 'G'): 95.1, ('H', 'I'): 15.8, ('H', 'J'): 45.5, ('I', 'A'): 26.9, ('I', 'B'): 102.6, ('I', 'C'): 44.7, ('I', 'D'): 76.8, ('I', 'E'): 55.1, ('I', 'F'): 80.0, ('I', 'G'): 99.7, ('I', 'H'): 15.8, ('I', 'J'): 59.1, ('J', 'A'): 38.3, ('J', 'B'): 80.8, ('J', 'C'): 66.1, ('J', 'D'): 21.5, ('J', 'E'): 17.1, ('J', 'F'): 40.3, ('J', 'G'): 68.0, ('J', 'H'): 45.5, ('J', 'I'): 59.1}\n"
          ]
        },
        {
          "data": {
            "image/png": "[encoded data removed]",
            "text/plain": [
              "<Figure size 640x480 with 1 Axes>"
            ]
          },
          "metadata": {},
          "output_type": "display_data"
        }
      ],
      "source": [
        "# test our setup functions\n",
        "test_city_map = setup_map(10)\n",
        "print(f'City Map: {test_city_map}')\n",
        "distances = calculate_distances(test_city_map)\n",
        "print(f'Distances between cities: {distances}')\n",
        "graph_map(test_city_map)"
      ]
    },
    {
      "cell_type": "markdown",
      "metadata": {
        "id": "L_clDiVgOXjT"
      },
      "source": [
        "### Exercise 1: The Brute Force Solution\n",
        "\n",
        "Implement a brute force solution to the traveling salesman problem using the city map and distance dictionary given above.  The algorithm for the brute force solution looks something like this:\n",
        " 1. Loop over every possible route that starts and ends on city A.  For a three city example, this would be ABCA, ACBA.  \n",
        " 2. Calculate the total distance of each possible route.  \n",
        " 3. Find the route with the minimum total distance.\n",
        "\n",
        "Before you start coding, think about what functions and/or class you might want to simplify your implementation of the algorithm.  Write a small test for your algorithm."
      ]
    },
    {
      "cell_type": "code",
      "execution_count": 55,
      "metadata": {
        "id": "nLmzZgjwECtJ"
      },
      "outputs": [
        {
          "name": "stdout",
          "output_type": "stream",
          "text": [
            "number of routes 2\n",
            "min distance 124.30000000000001\n",
            "shortest route ['A', 'C', 'B']\n",
            "['A', 'C', 'B']\n",
            "number of routes 362880\n",
            "min distance 250.3\n",
            "shortest route ['A', 'H', 'I', 'C', 'B', 'G', 'F', 'E', 'J', 'D']\n"
          ]
        }
      ],
      "source": [
        "# Ex. 1 your solution here\n",
        "\n",
        "# probably need to do recursion\n",
        "# greedy algorithm but without the optimizations\n",
        "\n",
        "def brute_tsm(city_map: dict[str, tuple[int, int]], test=False) -> list[str]:\n",
        "    min_distance = math.inf\n",
        "    shortest_route = list(city_map.keys())\n",
        "    \n",
        "    cities_set = set(city_map.keys())\n",
        "    routes = []\n",
        "    \n",
        "    def recurse(remaining_cities: set[str], route: list[str], total_distance: float):\n",
        "        # Allow access to outside vars for recording\n",
        "        nonlocal min_distance, shortest_route\n",
        "        \n",
        "        # Stop and record the route \n",
        "        if len(remaining_cities) == 0:\n",
        "            # If the route is the shortest we've found yet, record it's distance and value\n",
        "            if total_distance < min_distance:\n",
        "                min_distance = total_distance\n",
        "                shortest_route = route\n",
        "            \n",
        "            routes.append(route)\n",
        "            return\n",
        "        \n",
        "        for next_city_name in remaining_cities:\n",
        "            new_remaining_citites = set(remaining_cities)\n",
        "            new_remaining_citites.remove(next_city_name)\n",
        "            \n",
        "            new_distance = total_distance + distance(next_city_name, route[len(route) - 1], city_map)\n",
        "            recurse(new_remaining_citites, route + [next_city_name], new_distance)\n",
        "    \n",
        "    cities_set.remove(\"A\")\n",
        "    recurse(cities_set, [\"A\"], 0)\n",
        "    \n",
        "    if test:\n",
        "        print(\"number of routes\", len(routes))\n",
        "            \n",
        "        print(\"min distance\", min_distance)\n",
        "        print(\"shortest route\", shortest_route)\n",
        "    \n",
        "    return shortest_route\n",
        "\n",
        "def test_brute_tsm():\n",
        "    print(brute_tsm(setup_map(3), test=True))\n",
        "    \n",
        "    brute_tsm(test_city_map, True)\n",
        "    \n",
        "test_brute_tsm()"
      ]
    },
    {
      "cell_type": "markdown",
      "metadata": {
        "id": "JhIjwjq-Oa4F"
      },
      "source": [
        "### Exercise 2: Nearest Neighbour\n",
        "\n",
        "Implement a nearest neighbour solution to the traveling salesman problem using the city map and distance dictionary given above.  The algorithm for the nearest neighbour solution looks something like this:\n",
        " 1. Start from the starting city.  \n",
        " 2. Go to the nearest city that has not been visited.  \n",
        " 3. Repeat steps 1 and 2 until all cities have been visited.\n",
        "\n",
        "Before you start coding, think about what functions and/or class you might want to simplify your implementation of the algorithm.  Write a small test for your algorithm."
      ]
    },
    {
      "cell_type": "code",
      "execution_count": 56,
      "metadata": {
        "id": "jrsQQyMLEFZ2"
      },
      "outputs": [
        {
          "name": "stdout",
          "output_type": "stream",
          "text": [
            "min distance 260.70000000000005\n",
            "shortest route ['A', 'H', 'I', 'C', 'E', 'J', 'D', 'F', 'G', 'B']\n",
            "number of routes 362880\n",
            "min distance 250.3\n",
            "shortest route ['A', 'H', 'I', 'C', 'B', 'G', 'F', 'E', 'J', 'D']\n",
            "greedy route ['A', 'H', 'I', 'C', 'E', 'J', 'D', 'F', 'G', 'B'] vs brute score ['A', 'H', 'I', 'C', 'B', 'G', 'F', 'E', 'J', 'D']\n"
          ]
        }
      ],
      "source": [
        "# Ex.2 your code here\n",
        "\n",
        "# \"greedy\" depth-first search\n",
        "\n",
        "def greedy_tsm(city_map: dict[str, tuple[int, int]], test=False):\n",
        "    shortest_distance = math.inf\n",
        "    shortest_route = list(city_map.keys())\n",
        "    \n",
        "    cities_set = set(city_map.keys())\n",
        "    \n",
        "    def recurse(remaining_cities: set[str], route: list[str], total_distance: float):\n",
        "        # Allow access to outside vars for recording\n",
        "        nonlocal shortest_distance, shortest_route\n",
        "        \n",
        "        # Stop and record the route \n",
        "        if len(remaining_cities) == 0:\n",
        "            \n",
        "            shortest_route = route\n",
        "            shortest_distance = total_distance\n",
        "            return\n",
        "        \n",
        "        # The next city is the closest one\n",
        "        next_city_name = min(remaining_cities, key = lambda city: distance(city, route[len(route) - 1], city_map))\n",
        "        \n",
        "        # Same deal as before\n",
        "            \n",
        "        new_remaining_citites = set(remaining_cities)\n",
        "        new_remaining_citites.remove(next_city_name)\n",
        "        \n",
        "        new_distance = total_distance + distance(next_city_name, route[len(route) - 1], city_map)\n",
        "        recurse(new_remaining_citites, route + [next_city_name], new_distance)\n",
        "    \n",
        "    cities_set.remove(\"A\")\n",
        "    recurse(cities_set, [\"A\"], 0)\n",
        "    \n",
        "    if test:\n",
        "        print(\"min distance\", shortest_distance)\n",
        "        print(\"shortest route\", shortest_route)\n",
        "    \n",
        "    return shortest_route\n",
        "\n",
        "def test_greedy_tsm():\n",
        "    greedy_route = greedy_tsm(setup_map(10), test=True) \n",
        "    brute_route = brute_tsm(setup_map(10), test=True)\n",
        "    \n",
        "    print(f\"greedy route {greedy_route} vs brute score {brute_route}\")\n",
        "    pass\n",
        "\n",
        "test_greedy_tsm()"
      ]
    },
    {
      "cell_type": "markdown",
      "metadata": {
        "id": "RzeiY9dFpBAC"
      },
      "source": [
        "### Exercise 3: Graph the Routes\n",
        "\n",
        "Use the networkx module to create directed graphs of the routes (brute force and nearest neighbour).  Include the distances between the cities on the edges.  Run several different map setups with a different sizes (ie. number of cities).  Do the brute force (ie. direct) and nearest neighbour (ie. heuristic) algorithms always give the same solution?  Do you notice anything about the brute force solutions that suggests an alternative heuristic algorithm?\n"
      ]
    },
    {
      "cell_type": "code",
      "execution_count": 64,
      "metadata": {
        "id": "U9NFv5PkEKO4"
      },
      "outputs": [
        {
          "name": "stdout",
          "output_type": "stream",
          "text": [
            "\n",
            " Green lines are bute-force (100% the best solution) while green lines are the result of the greedy algorithm (approximation)\n"
          ]
        },
        {
          "data": {
            "image/png": "[encoded data removed]",
            "text/plain": [
              "<Figure size 640x480 with 1 Axes>"
            ]
          },
          "metadata": {},
          "output_type": "display_data"
        }
      ],
      "source": [
        "# Ex.3 your code here\n",
        "\n",
        "from pyparsing import with_class\n",
        "\n",
        "\n",
        "def graph_routes(n):\n",
        "    city_locations = [(random.randint(0, 100), random.randint(0, 100)) for i in range(n)]\n",
        "    city_names = [chr(65 + i) for i in range(n)]\n",
        "    city_map = dict(zip(city_names, city_locations))\n",
        "    \n",
        "    graph_brute(city_map)\n",
        "    graph_greedy(city_map)\n",
        "    \n",
        "    print(\"\\n Green lines are bute-force (100% the best solution) while green lines are the result of the greedy algorithm (approximation)\")\n",
        "    \n",
        "def graph_brute(city_map):    \n",
        "    route = brute_tsm(city_map)\n",
        "    graph_with_route(city_map, route, \"green\")\n",
        "    \n",
        "def graph_greedy(city_map):\n",
        "    route = greedy_tsm(city_map)\n",
        "    graph_with_route(city_map, route, \"red\")\n",
        "\n",
        "def graph_with_route(city_map, route, edge_color: str):\n",
        "    G = nx.DiGraph()\n",
        "    G.add_nodes_from(city_map)\n",
        "    \n",
        "    edge_pairs = [(route[i - 1], route[i]) for i in range(1, len(route))]\n",
        "    G.add_edges_from(edge_pairs)\n",
        "    \n",
        "    nx.draw_networkx_nodes(G, city_map)\n",
        "    nx.draw_networkx_edges(G, city_map, arrowstyle='-|>', arrows=True, edge_color=edge_color)\n",
        "    nx.draw_networkx_labels(G, city_map)\n",
        "\n",
        "graph_routes(10)"
      ]
    },
    {
      "cell_type": "markdown",
      "metadata": {
        "id": "HD2PiYXQV48y"
      },
      "source": [
        "### Exercise 4: Algorithm Scaling\n",
        "\n",
        "Use the `time` module to measure the running time of the two algorithms.  Note that the `time.time()` function returns the current time, so calling it before and after the algorithm has run can give you the time it takes for the algorithm to execute.  Taking the average over several trials will make the measurement more precise.  Demonstrate the scaling nature of the algorithms by plotting their execution time as a function of N, up to about N = 10.  "
      ]
    },
    {
      "cell_type": "code",
      "execution_count": 13,
      "metadata": {
        "id": "DBpuwJ5SSNJB"
      },
      "outputs": [
        {
          "name": "stdout",
          "output_type": "stream",
          "text": [
            "avg brute time 1.5497207641601562e-06\n",
            "avg greedy time 1.0728836059570312e-06\n",
            "Greedy algorithm was 1.4 faster\n",
            "avg brute time 2.6702880859375e-06\n",
            "avg greedy time 3.790855407714844e-06\n",
            "Greedy algorithm was 0.7 faster\n",
            "avg brute time 4.291534423828125e-06\n",
            "avg greedy time 5.602836608886719e-06\n",
            "Greedy algorithm was 0.77 faster\n",
            "avg brute time 2.8395652770996092e-05\n",
            "avg greedy time 6.747245788574219e-06\n",
            "Greedy algorithm was 4.2 faster\n",
            "avg brute time 4.494190216064453e-05\n",
            "avg greedy time 9.489059448242187e-06\n",
            "Greedy algorithm was 4.7 faster\n",
            "avg brute time 0.0003114461898803711\n",
            "avg greedy time 3.321170806884766e-05\n",
            "Greedy algorithm was 9.4 faster\n",
            "avg brute time 0.0022075891494750975\n",
            "avg greedy time 2.8753280639648436e-05\n",
            "Greedy algorithm was 7.7e+01 faster\n",
            "avg brute time 0.019642210006713866\n",
            "avg greedy time 3.325939178466797e-05\n",
            "Greedy algorithm was 5.9e+02 faster\n",
            "avg brute time 0.09079439640045166\n",
            "avg greedy time 4.1651725769042966e-05\n",
            "Greedy algorithm was 2.2e+03 faster\n"
          ]
        },
        {
          "data": {
            "image/png": "[encoded data removed]",
            "text/plain": [
              "<Figure size 640x480 with 1 Axes>"
            ]
          },
          "metadata": {},
          "output_type": "display_data"
        }
      ],
      "source": [
        "# Ex 4: your code here\n",
        "\n",
        "def profile_brute(city_map: dict[str, tuple[int, int]]):\n",
        "    time_start = time.time()\n",
        "    \n",
        "    brute_tsm(city_map)\n",
        "    \n",
        "    time_end = time.time() - time_start\n",
        "    return time_end\n",
        "\n",
        "def profile_greedy(city_map: dict[str, tuple[int, int]]):\n",
        "    time_start = time.time()\n",
        "    \n",
        "    greedy_tsm(city_map)\n",
        "    \n",
        "    time_end = time.time() - time_start\n",
        "    return time_end\n",
        "\n",
        "def profile_algos(graph_size: int = 10):\n",
        "    \n",
        "    total_brute_time = 0\n",
        "    total_greedy_time = 0\n",
        "    \n",
        "    avg_iters = 10\n",
        "    \n",
        "    for _ in range(avg_iters):\n",
        "        city_map = setup_map(graph_size)\n",
        "        \n",
        "        total_brute_time += profile_brute(city_map)\n",
        "        total_greedy_time += profile_greedy(city_map)\n",
        "        \n",
        "    avg_brute_time = total_brute_time / avg_iters\n",
        "    avg_greedy_time = total_greedy_time / avg_iters\n",
        "    \n",
        "    print(f\"avg brute time {avg_brute_time}\")\n",
        "    print(f\"avg greedy time {avg_greedy_time}\")\n",
        "    \n",
        "    print(f\"Greedy algorithm was {avg_brute_time / avg_greedy_time:.2} faster\")\n",
        "    \n",
        "    return (avg_brute_time, avg_greedy_time)\n",
        "    \n",
        "def profile_graph_scaling():\n",
        "    times = [profile_algos(i) for i in range(1, 10)]\n",
        "    \n",
        "    plt.plot(times)\n",
        "    \n",
        "    \n",
        "profile_graph_scaling()"
      ]
    }
  ],
  "metadata": {
    "colab": {
      "include_colab_link": true,
      "provenance": []
    },
    "kernelspec": {
      "display_name": "Python 3",
      "name": "python3"
    },
    "language_info": {
      "codemirror_mode": {
        "name": "ipython",
        "version": 3
      },
      "file_extension": ".py",
      "mimetype": "text/x-python",
      "name": "python",
      "nbconvert_exporter": "python",
      "pygments_lexer": "ipython3",
      "version": "3.13.1"
    }
  },
  "nbformat": 4,
  "nbformat_minor": 0
}
