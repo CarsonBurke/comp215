{
  "cells": [
    {
      "cell_type": "markdown",
      "metadata": {
        "colab_type": "text",
        "id": "view-in-github"
      },
      "source": [
        "<a href=\"https://colab.research.google.com/github/CarsonBurke/comp215/blob/main/labs/lab05_scaling.ipynb\" target=\"_parent\"><img src=\"https://colab.research.google.com/assets/colab-badge.svg\" alt=\"Open In Colab\"/></a>"
      ]
    },
    {
      "cell_type": "markdown",
      "metadata": {
        "id": "maj2ZJihN_mq"
      },
      "source": [
        "COMP 215 - LAB 5\n",
        "----------------\n",
        "#### Name(s):\n",
        "#### Date:\n",
        "\n",
        "By the end of this lab you should be able to:\n",
        "  * apply both a direct (ie. brute force) and heuristic algorithm to a problem\n",
        "  * use the networkx module to visualize graphs\n",
        "  * measure algorithm scaling\n",
        "\n",
        "\n",
        "During this lab, you will be introduced to the following:\n",
        "  * seeding the random module\n",
        "\n"
      ]
    },
    {
      "cell_type": "markdown",
      "metadata": {
        "id": "bXq2viKmFY-h"
      },
      "source": [
        "## The Traveling Salesperson Problem\n",
        "\n",
        "This lab is based on the famous Traveling Salesperson Problem (TSP) outlined in Section 3.3.2 of 'On Complexity'.  Imagine you needed to travel to ten different cities.  What is the sortest possible route you could take to visit every city?  For our version of the problem, you start from a specific city and must end on the same city.\n",
        "\n",
        "In this lab, you will implement a direct (ie. brute force) and a heuristic solution to the problem."
      ]
    },
    {
      "cell_type": "code",
      "execution_count": 3,
      "metadata": {
        "id": "XAr1Vf5HiC6N"
      },
      "outputs": [],
      "source": [
        "# start with some imports\n",
        "import random, math, time, itertools\n",
        "import networkx as nx\n",
        "import matplotlib.pyplot as plt\n",
        "%matplotlib inline\n",
        "from pprint import pprint"
      ]
    },
    {
      "cell_type": "markdown",
      "metadata": {
        "id": "P69qc4NLXcHA"
      },
      "source": [
        "## Set up the map\n",
        "\n",
        "For this implementation of the problem we will randomly place N cities on a 100 by 100 grid.  Cities will be labelled using a single character; 'A', 'B', 'C', etc.  City locations will be denoted by a 2-tuple, `(x,y)`, giving their position on the grid. In order to create reproducable maps, we will use [random.seed()](https://docs.python.org/3/library/random.html#random.seed) to initialize the random module.  "
      ]
    },
    {
      "cell_type": "code",
      "execution_count": 4,
      "metadata": {
        "id": "lHqZss26iNtY"
      },
      "outputs": [],
      "source": [
        "from pyparsing import with_attribute\n",
        "\n",
        "\n",
        "def setup_map(N, seed=1):\n",
        "  ''' Returns a map of N cities with random locations on a 100 by 100 grid '''\n",
        "  random.seed(seed)\n",
        "  city_locations = [(random.randint(0, 100), random.randint(0, 100)) for i in range(N)]\n",
        "  city_names = [chr(65 + i) for i in range(N)]\n",
        "  city_map = dict(zip(city_names, city_locations))\n",
        "  return city_map\n",
        "\n",
        "def graph_map(city_map):\n",
        "  ''' graph the map of cities using networkx'''\n",
        "  G = nx.Graph()\n",
        "  G.add_nodes_from(city_map)\n",
        "  nx.draw(G, city_map, with_labels=True)\n",
        "\n",
        "def distance(city1, city2, city_map):\n",
        "  ''' Returns the distance between two cities on a map'''\n",
        "  x1, y1 = city_map[city1]\n",
        "  x2, y2 = city_map[city2]\n",
        "  return round(math.sqrt((x2 - x1)**2 + (y2 - y1)**2),1)\n",
        "\n",
        "def calculate_distances(city_map):\n",
        "  ''' Returns a dictionary with the distances between all pairs of cities in a map '''\n",
        "  distances = {}\n",
        "  for city1 in city_map:\n",
        "      for city2 in city_map:\n",
        "          if city1 != city2:\n",
        "              # this will have duplicate distances (A,B) and (B,A)\n",
        "              # these duplicates make the algorithm implememntation simpler\n",
        "              distances[(city1, city2)] = distance(city1, city2, city_map)\n",
        "  return distances\n"
      ]
    },
    {
      "cell_type": "code",
      "execution_count": 5,
      "metadata": {
        "id": "d0ZFBtOPpU-P"
      },
      "outputs": [
        {
          "name": "stdout",
          "output_type": "stream",
          "text": [
            "City Map: {'A': (17, 72), 'B': (97, 8), 'C': (32, 15), 'D': (63, 97), 'E': (57, 60), 'F': (83, 48), 'G': (100, 26), 'H': (12, 62), 'I': (3, 49), 'J': (55, 77)}\n",
            "Distances between cities: {('A', 'B'): 102.4, ('A', 'C'): 58.9, ('A', 'D'): 52.4, ('A', 'E'): 41.8, ('A', 'F'): 70.2, ('A', 'G'): 94.9, ('A', 'H'): 11.2, ('A', 'I'): 26.9, ('A', 'J'): 38.3, ('B', 'A'): 102.4, ('B', 'C'): 65.4, ('B', 'D'): 95.3, ('B', 'E'): 65.6, ('B', 'F'): 42.4, ('B', 'G'): 18.2, ('B', 'H'): 100.7, ('B', 'I'): 102.6, ('B', 'J'): 80.8, ('C', 'A'): 58.9, ('C', 'B'): 65.4, ('C', 'D'): 87.7, ('C', 'E'): 51.5, ('C', 'F'): 60.7, ('C', 'G'): 68.9, ('C', 'H'): 51.1, ('C', 'I'): 44.7, ('C', 'J'): 66.1, ('D', 'A'): 52.4, ('D', 'B'): 95.3, ('D', 'C'): 87.7, ('D', 'E'): 37.5, ('D', 'F'): 52.9, ('D', 'G'): 80.1, ('D', 'H'): 61.9, ('D', 'I'): 76.8, ('D', 'J'): 21.5, ('E', 'A'): 41.8, ('E', 'B'): 65.6, ('E', 'C'): 51.5, ('E', 'D'): 37.5, ('E', 'F'): 28.6, ('E', 'G'): 54.8, ('E', 'H'): 45.0, ('E', 'I'): 55.1, ('E', 'J'): 17.1, ('F', 'A'): 70.2, ('F', 'B'): 42.4, ('F', 'C'): 60.7, ('F', 'D'): 52.9, ('F', 'E'): 28.6, ('F', 'G'): 27.8, ('F', 'H'): 72.4, ('F', 'I'): 80.0, ('F', 'J'): 40.3, ('G', 'A'): 94.9, ('G', 'B'): 18.2, ('G', 'C'): 68.9, ('G', 'D'): 80.1, ('G', 'E'): 54.8, ('G', 'F'): 27.8, ('G', 'H'): 95.1, ('G', 'I'): 99.7, ('G', 'J'): 68.0, ('H', 'A'): 11.2, ('H', 'B'): 100.7, ('H', 'C'): 51.1, ('H', 'D'): 61.9, ('H', 'E'): 45.0, ('H', 'F'): 72.4, ('H', 'G'): 95.1, ('H', 'I'): 15.8, ('H', 'J'): 45.5, ('I', 'A'): 26.9, ('I', 'B'): 102.6, ('I', 'C'): 44.7, ('I', 'D'): 76.8, ('I', 'E'): 55.1, ('I', 'F'): 80.0, ('I', 'G'): 99.7, ('I', 'H'): 15.8, ('I', 'J'): 59.1, ('J', 'A'): 38.3, ('J', 'B'): 80.8, ('J', 'C'): 66.1, ('J', 'D'): 21.5, ('J', 'E'): 17.1, ('J', 'F'): 40.3, ('J', 'G'): 68.0, ('J', 'H'): 45.5, ('J', 'I'): 59.1}\n"
          ]
        },
        {
          "data": {
            "image/png": "[encoded data removed]",
            "text/plain": [
              "<Figure size 640x480 with 1 Axes>"
            ]
          },
          "metadata": {},
          "output_type": "display_data"
        }
      ],
      "source": [
        "# test our setup functions\n",
        "city_map = setup_map(10)\n",
        "print(f'City Map: {city_map}')\n",
        "distances = calculate_distances(city_map)\n",
        "print(f'Distances between cities: {distances}')\n",
        "graph_map(city_map)"
      ]
    },
    {
      "cell_type": "markdown",
      "metadata": {
        "id": "L_clDiVgOXjT"
      },
      "source": [
        "### Exercise 1: The Brute Force Solution\n",
        "\n",
        "Implement a brute force solution to the traveling salesman problem using the city map and distance dictionary given above.  The algorithm for the brute force solution looks something like this:\n",
        " 1. Loop over every possible route that starts and ends on city A.  For a three city example, this would be ABCA, ACBA.  \n",
        " 2. Calculate the total distance of each possible route.  \n",
        " 3. Find the route with the minimum total distance.\n",
        "\n",
        "Before you start coding, think about what functions and/or class you might want to simplify your implementation of the algorithm.  Write a small test for your algorithm."
      ]
    },
    {
      "cell_type": "code",
      "execution_count": 9,
      "metadata": {
        "id": "nLmzZgjwECtJ"
      },
      "outputs": [
        {
          "name": "stdout",
          "output_type": "stream",
          "text": [
            "number of routes 2\n",
            "min distance 65.4\n",
            "shortest route ['A', 'B', 'C']\n",
            "number of routes 362880\n",
            "min distance 15.8\n",
            "shortest route ['A', 'J', 'E', 'F', 'C', 'B', 'D', 'G', 'I', 'H']\n"
          ]
        }
      ],
      "source": [
        "# Ex. 1 your solution here\n",
        "\n",
        "# probably need to do recursion\n",
        "# greedy algorithm but without the optimizations\n",
        "\n",
        "def brute_tsm(city_map: dict[str, tuple[int, int]], test=False) -> list[str]:\n",
        "    min_distance = math.inf\n",
        "    shortest_route = list(city_map.keys())\n",
        "    \n",
        "    cities_set = set(city_map.keys())\n",
        "    routes = []\n",
        "    \n",
        "    def recurse(remaining_cities: set[str], route: list[str], total_distance: float):\n",
        "        # Allow access to outside vars for recording\n",
        "        nonlocal min_distance, shortest_route\n",
        "        \n",
        "        # Stop and record the route \n",
        "        if len(remaining_cities) == 0:\n",
        "            # If the route is the shortest we've found yet, record it's distance and value\n",
        "            if total_distance < min_distance:\n",
        "                min_distance = total_distance\n",
        "                shortest_route = route\n",
        "            \n",
        "            routes.append(route)\n",
        "            return\n",
        "        \n",
        "        for next_city_name in remaining_cities:\n",
        "            new_remaining_citites = set(remaining_cities)\n",
        "            new_remaining_citites.remove(next_city_name)\n",
        "            \n",
        "            new_distance = total_distance = distance(next_city_name, route[len(route) - 1], city_map)\n",
        "            recurse(new_remaining_citites, route + [next_city_name], new_distance)\n",
        "    \n",
        "    cities_set.remove(\"A\")\n",
        "    recurse(cities_set, [\"A\"], 0)\n",
        "    \n",
        "    if test:\n",
        "        print(\"number of routes\", len(routes))\n",
        "            \n",
        "        print(\"min distance\", min_distance)\n",
        "        print(\"shortest route\", shortest_route)\n",
        "    \n",
        "    return shortest_route\n",
        "\n",
        "def test_brute_tsm():\n",
        "    test_result = brute_tsm(setup_map(3), test=True)\n",
        "    assert test_result == [\"A\", \"B\", \"C\"]\n",
        "    \n",
        "    brute_tsm(city_map, True)\n",
        "    \n",
        "test_brute_tsm()"
      ]
    },
    {
      "cell_type": "markdown",
      "metadata": {
        "id": "JhIjwjq-Oa4F"
      },
      "source": [
        "### Exercise 2: Nearest Neighbour\n",
        "\n",
        "Implement a nearest neighbour solution to the traveling salesman problem using the city map and distance dictionary given above.  The algorithm for the nearest neighbour solution looks something like this:\n",
        " 1. Start from the starting city.  \n",
        " 2. Go to the nearest city that has not been visited.  \n",
        " 3. Repeat steps 1 and 2 until all cities have been visited.\n",
        "\n",
        "Before you start coding, think about what functions and/or class you might want to simplify your implementation of the algorithm.  Write a small test for your algorithm."
      ]
    },
    {
      "cell_type": "code",
      "execution_count": 13,
      "metadata": {
        "id": "jrsQQyMLEFZ2"
      },
      "outputs": [
        {
          "name": "stdout",
          "output_type": "stream",
          "text": [
            "min distance 18.2\n",
            "shortest route ['A', 'H', 'I', 'C', 'E', 'J', 'D', 'F', 'G', 'B']\n",
            "number of routes 362880\n",
            "min distance 15.8\n",
            "shortest route ['A', 'J', 'E', 'F', 'C', 'B', 'D', 'G', 'I', 'H']\n",
            "greedy route ['A', 'H', 'I', 'C', 'E', 'J', 'D', 'F', 'G', 'B'] vs brute score ['A', 'J', 'E', 'F', 'C', 'B', 'D', 'G', 'I', 'H']\n"
          ]
        }
      ],
      "source": [
        "# Ex.2 your code here\n",
        "\n",
        "# greedy depth-first search\n",
        "\n",
        "def greedy_tsm(city_map: dict[str, tuple[int, int]], test=False):\n",
        "    shortest_distance = math.inf\n",
        "    shortest_route = list(city_map.keys())\n",
        "    \n",
        "    cities_set = set(city_map.keys())\n",
        "    \n",
        "    def recurse(remaining_cities: set[str], route: list[str], total_distance: float):\n",
        "        # Allow access to outside vars for recording\n",
        "        nonlocal shortest_distance, shortest_route\n",
        "        \n",
        "        # Stop and record the route \n",
        "        if len(remaining_cities) == 0:\n",
        "            # If the route is the shortest we've found yet, record it's distance and value\n",
        "            shortest_route = route\n",
        "            shortest_distance = total_distance\n",
        "            return\n",
        "        \n",
        "        # The next city is the closest one\n",
        "        next_city_name = min(remaining_cities, key = lambda city: distance(city, route[len(route) - 1], city_map))\n",
        "        \n",
        "        # Same deal as before\n",
        "            \n",
        "        new_remaining_citites = set(remaining_cities)\n",
        "        new_remaining_citites.remove(next_city_name)\n",
        "        \n",
        "        new_distance = total_distance = distance(next_city_name, route[len(route) - 1], city_map)\n",
        "        recurse(new_remaining_citites, route + [next_city_name], new_distance)\n",
        "    \n",
        "    cities_set.remove(\"A\")\n",
        "    recurse(cities_set, [\"A\"], 0)\n",
        "    \n",
        "    if test:\n",
        "            \n",
        "        print(\"min distance\", shortest_distance)\n",
        "        print(\"shortest route\", shortest_route)\n",
        "    \n",
        "    return shortest_route\n",
        "    \n",
        "\n",
        "def test_greedy_tsm():\n",
        "    greedy_route = greedy_tsm(setup_map(10), test=True) \n",
        "    brute_route = brute_tsm(setup_map(10), test=True)\n",
        "    \n",
        "    print(f\"greedy route {greedy_route} vs brute score {brute_route}\")\n",
        "    pass\n",
        "\n",
        "test_greedy_tsm()"
      ]
    },
    {
      "cell_type": "markdown",
      "metadata": {
        "id": "RzeiY9dFpBAC"
      },
      "source": [
        "### Exercise 3: Graph the Routes\n",
        "\n",
        "Use the networkx module to create directed graphs of the routes (brute force and nearest neighbour).  Include the distances between the cities on the edges.  Run several different map setups with a different sizes (ie. number of cities).  Do the brute force (ie. direct) and nearest neighbour (ie. heuristic) algorithms always give the same solution?  Do you notice anything about the brute force solutions that suggests an alternative heuristic algorithm?\n"
      ]
    },
    {
      "cell_type": "code",
      "execution_count": null,
      "metadata": {
        "id": "U9NFv5PkEKO4"
      },
      "outputs": [],
      "source": [
        "# Ex.3 your code here\n",
        "\n",
        "def graph_routes():\n",
        "    pass"
      ]
    },
    {
      "cell_type": "markdown",
      "metadata": {
        "id": "HD2PiYXQV48y"
      },
      "source": [
        "### Exercise 4: Algorithm Scaling\n",
        "\n",
        "Use the `time` module to measure the running time of the two algorithms.  Note that the `time.time()` function returns the current time, so calling it before and after the algorithm has run can give you the time it takes for the algorithm to execute.  Taking the average over several trials will make the measurement more precise.  Demonstrate the scaling nature of the algorithms by plotting their execution time as a function of N, up to about N = 10.  "
      ]
    },
    {
      "cell_type": "code",
      "execution_count": null,
      "metadata": {
        "id": "DBpuwJ5SSNJB"
      },
      "outputs": [],
      "source": [
        "# Ex 4: your code here\n",
        "\n",
        "def scaling(n: int):\n",
        "    time_start = time.time()\n",
        "    \n",
        "    \n",
        "    \n",
        "    time_end = time.time() - time_start\n",
        "    return time_end\n",
        "\n",
        "def run_scaling():\n",
        "    for i in range(10):\n",
        "        print(f\"Running scaling for {i} cities\")\n",
        "        scaling(i)"
      ]
    }
  ],
  "metadata": {
    "colab": {
      "include_colab_link": true,
      "provenance": []
    },
    "kernelspec": {
      "display_name": "Python 3",
      "name": "python3"
    },
    "language_info": {
      "codemirror_mode": {
        "name": "ipython",
        "version": 3
      },
      "file_extension": ".py",
      "mimetype": "text/x-python",
      "name": "python",
      "nbconvert_exporter": "python",
      "pygments_lexer": "ipython3",
      "version": "3.13.1"
    }
  },
  "nbformat": 4,
  "nbformat_minor": 0
}
